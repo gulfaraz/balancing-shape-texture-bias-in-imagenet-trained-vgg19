{
 "cells": [
  {
   "cell_type": "code",
   "execution_count": 1,
   "metadata": {
    "ExecuteTime": {
     "end_time": "2019-03-18T01:19:31.411581Z",
     "start_time": "2019-03-18T01:19:29.499234Z"
    }
   },
   "outputs": [],
   "source": [
    "%matplotlib notebook\n",
    "%config InlineBackend.figure_format = 'retina'\n",
    "\n",
    "# native\n",
    "import os\n",
    "\n",
    "# modules\n",
    "from utils import *\n",
    "from dataset import *\n",
    "from vgg19min import *\n",
    "from plotgrid import PlotGrid\n",
    "from score import *\n",
    "from trainer import *\n",
    "from logger import *\n",
    "\n",
    "# pytorch\n",
    "import torch\n",
    "from torch.utils.data import DataLoader\n",
    "\n",
    "import torchvision\n",
    "import torchvision.transforms as transforms\n"
   ]
  },
  {
   "cell_type": "code",
   "execution_count": 2,
   "metadata": {
    "ExecuteTime": {
     "end_time": "2019-03-18T01:19:31.424338Z",
     "start_time": "2019-03-18T01:19:31.417356Z"
    }
   },
   "outputs": [],
   "source": [
    "requirements = {\n",
    "    torch: '1'\n",
    "}\n",
    "\n",
    "check_requirements(requirements)"
   ]
  },
  {
   "cell_type": "code",
   "execution_count": 3,
   "metadata": {
    "ExecuteTime": {
     "end_time": "2019-03-18T01:19:31.471655Z",
     "start_time": "2019-03-18T01:19:31.428282Z"
    }
   },
   "outputs": [
    {
     "data": {
      "text/plain": [
       "'cuda'"
      ]
     },
     "execution_count": 3,
     "metadata": {},
     "output_type": "execute_result"
    }
   ],
   "source": [
    "cuda = torch.cuda.is_available()\n",
    "\n",
    "if cuda:\n",
    "    torch.backends.cudnn.benchmark = True\n",
    "    torch.set_default_tensor_type('torch.cuda.FloatTensor')\n",
    "\n",
    "device = 'cuda' if cuda else 'cpu'\n",
    "\n",
    "device"
   ]
  },
  {
   "cell_type": "code",
   "execution_count": 4,
   "metadata": {
    "ExecuteTime": {
     "end_time": "2019-03-18T01:19:31.485786Z",
     "start_time": "2019-03-18T01:19:31.479118Z"
    }
   },
   "outputs": [],
   "source": [
    "ROOT_PATH = pathJoin(os.sep, 'var', 'node433', 'local', 'gulfaraz')"
   ]
  },
  {
   "cell_type": "code",
   "execution_count": 5,
   "metadata": {
    "ExecuteTime": {
     "end_time": "2019-03-18T01:19:39.779543Z",
     "start_time": "2019-03-18T01:19:31.490214Z"
    },
    "scrolled": true
   },
   "outputs": [
    {
     "name": "stderr",
     "output_type": "stream",
     "text": [
      "100%|██████████| 100000/100000 [00:03<00:00, 27566.01it/s]\n",
      " 56%|█████▌    | 5593/10000 [00:00<00:00, 27914.01it/s]"
     ]
    },
    {
     "name": "stdout",
     "output_type": "stream",
     "text": [
      "train dataset miniimagenet has 100000 datapoints in 6250 batches\n"
     ]
    },
    {
     "name": "stderr",
     "output_type": "stream",
     "text": [
      "100%|██████████| 10000/10000 [00:00<00:00, 28090.34it/s]\n",
      "  3%|▎         | 2707/100000 [00:00<00:03, 27064.67it/s]"
     ]
    },
    {
     "name": "stdout",
     "output_type": "stream",
     "text": [
      "val dataset miniimagenet has 10000 datapoints in 625 batches\n"
     ]
    },
    {
     "name": "stderr",
     "output_type": "stream",
     "text": [
      "100%|██████████| 100000/100000 [00:03<00:00, 27469.98it/s]\n",
      " 56%|█████▋    | 5639/10000 [00:00<00:00, 28107.65it/s]"
     ]
    },
    {
     "name": "stdout",
     "output_type": "stream",
     "text": [
      "train dataset stylized-miniimagenet-1.0 has 100000 datapoints in 6250 batches\n"
     ]
    },
    {
     "name": "stderr",
     "output_type": "stream",
     "text": [
      "100%|██████████| 10000/10000 [00:00<00:00, 28025.70it/s]"
     ]
    },
    {
     "name": "stdout",
     "output_type": "stream",
     "text": [
      "val dataset stylized-miniimagenet-1.0 has 10000 datapoints in 625 batches\n",
      "100000 Datapoints in 6250 Batches\n",
      "10000 Datapoints in 625 Batches\n",
      "100000 Datapoints in 6250 Batches\n",
      "10000 Datapoints in 625 Batches\n"
     ]
    },
    {
     "name": "stderr",
     "output_type": "stream",
     "text": [
      "\n"
     ]
    }
   ],
   "source": [
    "TRAIN_BATCH_SIZE = 16\n",
    "TEST_BATCH_SIZE = 16\n",
    "IMAGE_SIZE = (224, 224)\n",
    "\n",
    "imagenet_normalization_values = {\n",
    "    'mean': [0.485, 0.456, 0.406],\n",
    "    'std': [0.229, 0.224, 0.225]\n",
    "}\n",
    "\n",
    "normalize = transforms.Normalize(**imagenet_normalization_values)\n",
    "denormalize = DeNormalize(**imagenet_normalization_values)\n",
    "\n",
    "\n",
    "def toImage(tensor_image):\n",
    "    return toPILImage(denormalize(tensor_image))\n",
    "\n",
    "raw_transforms = transforms.Compose([\n",
    "    transforms.CenterCrop(IMAGE_SIZE),\n",
    "    transforms.ToTensor()\n",
    "])\n",
    "\n",
    "train_transforms = transforms.Compose([\n",
    "    transforms.RandomResizedCrop(IMAGE_SIZE[0]),\n",
    "    transforms.RandomHorizontalFlip(),\n",
    "    transforms.ToTensor(),\n",
    "    normalize\n",
    "])\n",
    "\n",
    "test_transforms = transforms.Compose([\n",
    "    transforms.Resize(256),\n",
    "    transforms.CenterCrop(IMAGE_SIZE),\n",
    "    transforms.ToTensor(),\n",
    "    normalize\n",
    "])\n",
    "\n",
    "def load_data(dataset_name, split):\n",
    "    dataset_path = os.path.join(ROOT_PATH, 'datasets', dataset_name)\n",
    "\n",
    "    istrain = split == 'train'\n",
    "    transforms = train_transforms if istrain else test_transforms\n",
    "    batch_size = TRAIN_BATCH_SIZE if istrain else TEST_BATCH_SIZE\n",
    "\n",
    "    dataset = MiniImageNetDataset(dataset_path, split=split, transforms=transforms)#raw_transforms)\n",
    "    loader = DataLoader(dataset, batch_size=batch_size, shuffle=istrain, num_workers=8)\n",
    "\n",
    "    print('{} dataset {} has {} datapoints in {} batches'.format(split, dataset_name, len(dataset), len(loader)))\n",
    "\n",
    "    return dataset, loader\n",
    "\n",
    "original_train_dataset, original_train_loader = load_data('miniimagenet', 'train')\n",
    "original_val_dataset, original_val_loader = load_data('miniimagenet', 'val')\n",
    "\n",
    "stylized_train_dataset, stylized_train_loader = load_data('stylized-miniimagenet-1.0', 'train')\n",
    "stylized_val_dataset, stylized_val_loader = load_data('stylized-miniimagenet-1.0', 'val')\n",
    "'''\n",
    "\n",
    "miniimagenet_dataset_path = os.path.join(ROOT_PATH, 'datasets', 'miniimagenet')\n",
    "\n",
    "original_train_dataset = MiniImageNetDataset(miniimagenet_dataset_path, transforms=train_transforms)#raw_transforms)\n",
    "original_val_dataset = MiniImageNetDataset(miniimagenet_dataset_path, split='val', transforms=test_transforms)\n",
    "\n",
    "original_train_loader = DataLoader(original_train_dataset, batch_size=TRAIN_BATCH_SIZE, shuffle=True, num_workers=8)\n",
    "original_val_loader = DataLoader(original_val_dataset, batch_size=TEST_BATCH_SIZE, shuffle=False, num_workers=8)\n",
    "\n",
    "stylized_miniimagenet_dataset_path = os.path.join(ROOT_PATH, 'datasets', 'stylized-miniimagenet-1.0')\n",
    "\n",
    "stylized_train_dataset = MiniImageNetDataset(stylized_miniimagenet_dataset_path, transforms=train_transforms)#raw_transforms)\n",
    "stylized_val_dataset = MiniImageNetDataset(stylized_miniimagenet_dataset_path, split='val', transforms=test_transforms)\n",
    "\n",
    "stylized_train_loader = DataLoader(stylized_train_dataset, batch_size=TRAIN_BATCH_SIZE, shuffle=True, num_workers=8)\n",
    "stylized_val_loader = DataLoader(stylized_val_dataset, batch_size=TEST_BATCH_SIZE, shuffle=False, num_workers=8)\n",
    "'''\n",
    "for dataset, loader in [\n",
    "    (original_train_dataset, original_train_loader),\n",
    "    (original_val_dataset, original_val_loader),\n",
    "    (stylized_train_dataset, stylized_train_loader),\n",
    "    (stylized_val_dataset, stylized_val_loader)\n",
    "]:\n",
    "    print('{} Datapoints in {} Batches'.format(len(dataset), len(loader)))\n",
    "\n",
    "dataset_names = [\n",
    "    'stylized-miniimagenet-1.0', 'stylized-miniimagenet-0.9', 'stylized-miniimagenet-0.8',\n",
    "    'stylized-miniimagenet-0.7', 'stylized-miniimagenet-0.6', 'stylized-miniimagenet-0.5',\n",
    "    'stylized-miniimagenet-0.4', 'stylized-miniimagenet-0.3', 'stylized-miniimagenet-0.2',\n",
    "    'stylized-miniimagenet-0.1', 'stylized-miniimagenet-0.0', 'miniimagenet'\n",
    "]\n"
   ]
  },
  {
   "cell_type": "code",
   "execution_count": 6,
   "metadata": {
    "ExecuteTime": {
     "end_time": "2019-03-18T01:19:39.830769Z",
     "start_time": "2019-03-18T01:19:39.784182Z"
    }
   },
   "outputs": [
    {
     "data": {
      "application/javascript": [
       "/* Put everything inside the global mpl namespace */\n",
       "window.mpl = {};\n",
       "\n",
       "\n",
       "mpl.get_websocket_type = function() {\n",
       "    if (typeof(WebSocket) !== 'undefined') {\n",
       "        return WebSocket;\n",
       "    } else if (typeof(MozWebSocket) !== 'undefined') {\n",
       "        return MozWebSocket;\n",
       "    } else {\n",
       "        alert('Your browser does not have WebSocket support.' +\n",
       "              'Please try Chrome, Safari or Firefox ≥ 6. ' +\n",
       "              'Firefox 4 and 5 are also supported but you ' +\n",
       "              'have to enable WebSockets in about:config.');\n",
       "    };\n",
       "}\n",
       "\n",
       "mpl.figure = function(figure_id, websocket, ondownload, parent_element) {\n",
       "    this.id = figure_id;\n",
       "\n",
       "    this.ws = websocket;\n",
       "\n",
       "    this.supports_binary = (this.ws.binaryType != undefined);\n",
       "\n",
       "    if (!this.supports_binary) {\n",
       "        var warnings = document.getElementById(\"mpl-warnings\");\n",
       "        if (warnings) {\n",
       "            warnings.style.display = 'block';\n",
       "            warnings.textContent = (\n",
       "                \"This browser does not support binary websocket messages. \" +\n",
       "                    \"Performance may be slow.\");\n",
       "        }\n",
       "    }\n",
       "\n",
       "    this.imageObj = new Image();\n",
       "\n",
       "    this.context = undefined;\n",
       "    this.message = undefined;\n",
       "    this.canvas = undefined;\n",
       "    this.rubberband_canvas = undefined;\n",
       "    this.rubberband_context = undefined;\n",
       "    this.format_dropdown = undefined;\n",
       "\n",
       "    this.image_mode = 'full';\n",
       "\n",
       "    this.root = $('<div/>');\n",
       "    this._root_extra_style(this.root)\n",
       "    this.root.attr('style', 'display: inline-block');\n",
       "\n",
       "    $(parent_element).append(this.root);\n",
       "\n",
       "    this._init_header(this);\n",
       "    this._init_canvas(this);\n",
       "    this._init_toolbar(this);\n",
       "\n",
       "    var fig = this;\n",
       "\n",
       "    this.waiting = false;\n",
       "\n",
       "    this.ws.onopen =  function () {\n",
       "            fig.send_message(\"supports_binary\", {value: fig.supports_binary});\n",
       "            fig.send_message(\"send_image_mode\", {});\n",
       "            if (mpl.ratio != 1) {\n",
       "                fig.send_message(\"set_dpi_ratio\", {'dpi_ratio': mpl.ratio});\n",
       "            }\n",
       "            fig.send_message(\"refresh\", {});\n",
       "        }\n",
       "\n",
       "    this.imageObj.onload = function() {\n",
       "            if (fig.image_mode == 'full') {\n",
       "                // Full images could contain transparency (where diff images\n",
       "                // almost always do), so we need to clear the canvas so that\n",
       "                // there is no ghosting.\n",
       "                fig.context.clearRect(0, 0, fig.canvas.width, fig.canvas.height);\n",
       "            }\n",
       "            fig.context.drawImage(fig.imageObj, 0, 0);\n",
       "        };\n",
       "\n",
       "    this.imageObj.onunload = function() {\n",
       "        fig.ws.close();\n",
       "    }\n",
       "\n",
       "    this.ws.onmessage = this._make_on_message_function(this);\n",
       "\n",
       "    this.ondownload = ondownload;\n",
       "}\n",
       "\n",
       "mpl.figure.prototype._init_header = function() {\n",
       "    var titlebar = $(\n",
       "        '<div class=\"ui-dialog-titlebar ui-widget-header ui-corner-all ' +\n",
       "        'ui-helper-clearfix\"/>');\n",
       "    var titletext = $(\n",
       "        '<div class=\"ui-dialog-title\" style=\"width: 100%; ' +\n",
       "        'text-align: center; padding: 3px;\"/>');\n",
       "    titlebar.append(titletext)\n",
       "    this.root.append(titlebar);\n",
       "    this.header = titletext[0];\n",
       "}\n",
       "\n",
       "\n",
       "\n",
       "mpl.figure.prototype._canvas_extra_style = function(canvas_div) {\n",
       "\n",
       "}\n",
       "\n",
       "\n",
       "mpl.figure.prototype._root_extra_style = function(canvas_div) {\n",
       "\n",
       "}\n",
       "\n",
       "mpl.figure.prototype._init_canvas = function() {\n",
       "    var fig = this;\n",
       "\n",
       "    var canvas_div = $('<div/>');\n",
       "\n",
       "    canvas_div.attr('style', 'position: relative; clear: both; outline: 0');\n",
       "\n",
       "    function canvas_keyboard_event(event) {\n",
       "        return fig.key_event(event, event['data']);\n",
       "    }\n",
       "\n",
       "    canvas_div.keydown('key_press', canvas_keyboard_event);\n",
       "    canvas_div.keyup('key_release', canvas_keyboard_event);\n",
       "    this.canvas_div = canvas_div\n",
       "    this._canvas_extra_style(canvas_div)\n",
       "    this.root.append(canvas_div);\n",
       "\n",
       "    var canvas = $('<canvas/>');\n",
       "    canvas.addClass('mpl-canvas');\n",
       "    canvas.attr('style', \"left: 0; top: 0; z-index: 0; outline: 0\")\n",
       "\n",
       "    this.canvas = canvas[0];\n",
       "    this.context = canvas[0].getContext(\"2d\");\n",
       "\n",
       "    var backingStore = this.context.backingStorePixelRatio ||\n",
       "\tthis.context.webkitBackingStorePixelRatio ||\n",
       "\tthis.context.mozBackingStorePixelRatio ||\n",
       "\tthis.context.msBackingStorePixelRatio ||\n",
       "\tthis.context.oBackingStorePixelRatio ||\n",
       "\tthis.context.backingStorePixelRatio || 1;\n",
       "\n",
       "    mpl.ratio = (window.devicePixelRatio || 1) / backingStore;\n",
       "\n",
       "    var rubberband = $('<canvas/>');\n",
       "    rubberband.attr('style', \"position: absolute; left: 0; top: 0; z-index: 1;\")\n",
       "\n",
       "    var pass_mouse_events = true;\n",
       "\n",
       "    canvas_div.resizable({\n",
       "        start: function(event, ui) {\n",
       "            pass_mouse_events = false;\n",
       "        },\n",
       "        resize: function(event, ui) {\n",
       "            fig.request_resize(ui.size.width, ui.size.height);\n",
       "        },\n",
       "        stop: function(event, ui) {\n",
       "            pass_mouse_events = true;\n",
       "            fig.request_resize(ui.size.width, ui.size.height);\n",
       "        },\n",
       "    });\n",
       "\n",
       "    function mouse_event_fn(event) {\n",
       "        if (pass_mouse_events)\n",
       "            return fig.mouse_event(event, event['data']);\n",
       "    }\n",
       "\n",
       "    rubberband.mousedown('button_press', mouse_event_fn);\n",
       "    rubberband.mouseup('button_release', mouse_event_fn);\n",
       "    // Throttle sequential mouse events to 1 every 20ms.\n",
       "    rubberband.mousemove('motion_notify', mouse_event_fn);\n",
       "\n",
       "    rubberband.mouseenter('figure_enter', mouse_event_fn);\n",
       "    rubberband.mouseleave('figure_leave', mouse_event_fn);\n",
       "\n",
       "    canvas_div.on(\"wheel\", function (event) {\n",
       "        event = event.originalEvent;\n",
       "        event['data'] = 'scroll'\n",
       "        if (event.deltaY < 0) {\n",
       "            event.step = 1;\n",
       "        } else {\n",
       "            event.step = -1;\n",
       "        }\n",
       "        mouse_event_fn(event);\n",
       "    });\n",
       "\n",
       "    canvas_div.append(canvas);\n",
       "    canvas_div.append(rubberband);\n",
       "\n",
       "    this.rubberband = rubberband;\n",
       "    this.rubberband_canvas = rubberband[0];\n",
       "    this.rubberband_context = rubberband[0].getContext(\"2d\");\n",
       "    this.rubberband_context.strokeStyle = \"#000000\";\n",
       "\n",
       "    this._resize_canvas = function(width, height) {\n",
       "        // Keep the size of the canvas, canvas container, and rubber band\n",
       "        // canvas in synch.\n",
       "        canvas_div.css('width', width)\n",
       "        canvas_div.css('height', height)\n",
       "\n",
       "        canvas.attr('width', width * mpl.ratio);\n",
       "        canvas.attr('height', height * mpl.ratio);\n",
       "        canvas.attr('style', 'width: ' + width + 'px; height: ' + height + 'px;');\n",
       "\n",
       "        rubberband.attr('width', width);\n",
       "        rubberband.attr('height', height);\n",
       "    }\n",
       "\n",
       "    // Set the figure to an initial 600x600px, this will subsequently be updated\n",
       "    // upon first draw.\n",
       "    this._resize_canvas(600, 600);\n",
       "\n",
       "    // Disable right mouse context menu.\n",
       "    $(this.rubberband_canvas).bind(\"contextmenu\",function(e){\n",
       "        return false;\n",
       "    });\n",
       "\n",
       "    function set_focus () {\n",
       "        canvas.focus();\n",
       "        canvas_div.focus();\n",
       "    }\n",
       "\n",
       "    window.setTimeout(set_focus, 100);\n",
       "}\n",
       "\n",
       "mpl.figure.prototype._init_toolbar = function() {\n",
       "    var fig = this;\n",
       "\n",
       "    var nav_element = $('<div/>')\n",
       "    nav_element.attr('style', 'width: 100%');\n",
       "    this.root.append(nav_element);\n",
       "\n",
       "    // Define a callback function for later on.\n",
       "    function toolbar_event(event) {\n",
       "        return fig.toolbar_button_onclick(event['data']);\n",
       "    }\n",
       "    function toolbar_mouse_event(event) {\n",
       "        return fig.toolbar_button_onmouseover(event['data']);\n",
       "    }\n",
       "\n",
       "    for(var toolbar_ind in mpl.toolbar_items) {\n",
       "        var name = mpl.toolbar_items[toolbar_ind][0];\n",
       "        var tooltip = mpl.toolbar_items[toolbar_ind][1];\n",
       "        var image = mpl.toolbar_items[toolbar_ind][2];\n",
       "        var method_name = mpl.toolbar_items[toolbar_ind][3];\n",
       "\n",
       "        if (!name) {\n",
       "            // put a spacer in here.\n",
       "            continue;\n",
       "        }\n",
       "        var button = $('<button/>');\n",
       "        button.addClass('ui-button ui-widget ui-state-default ui-corner-all ' +\n",
       "                        'ui-button-icon-only');\n",
       "        button.attr('role', 'button');\n",
       "        button.attr('aria-disabled', 'false');\n",
       "        button.click(method_name, toolbar_event);\n",
       "        button.mouseover(tooltip, toolbar_mouse_event);\n",
       "\n",
       "        var icon_img = $('<span/>');\n",
       "        icon_img.addClass('ui-button-icon-primary ui-icon');\n",
       "        icon_img.addClass(image);\n",
       "        icon_img.addClass('ui-corner-all');\n",
       "\n",
       "        var tooltip_span = $('<span/>');\n",
       "        tooltip_span.addClass('ui-button-text');\n",
       "        tooltip_span.html(tooltip);\n",
       "\n",
       "        button.append(icon_img);\n",
       "        button.append(tooltip_span);\n",
       "\n",
       "        nav_element.append(button);\n",
       "    }\n",
       "\n",
       "    var fmt_picker_span = $('<span/>');\n",
       "\n",
       "    var fmt_picker = $('<select/>');\n",
       "    fmt_picker.addClass('mpl-toolbar-option ui-widget ui-widget-content');\n",
       "    fmt_picker_span.append(fmt_picker);\n",
       "    nav_element.append(fmt_picker_span);\n",
       "    this.format_dropdown = fmt_picker[0];\n",
       "\n",
       "    for (var ind in mpl.extensions) {\n",
       "        var fmt = mpl.extensions[ind];\n",
       "        var option = $(\n",
       "            '<option/>', {selected: fmt === mpl.default_extension}).html(fmt);\n",
       "        fmt_picker.append(option)\n",
       "    }\n",
       "\n",
       "    // Add hover states to the ui-buttons\n",
       "    $( \".ui-button\" ).hover(\n",
       "        function() { $(this).addClass(\"ui-state-hover\");},\n",
       "        function() { $(this).removeClass(\"ui-state-hover\");}\n",
       "    );\n",
       "\n",
       "    var status_bar = $('<span class=\"mpl-message\"/>');\n",
       "    nav_element.append(status_bar);\n",
       "    this.message = status_bar[0];\n",
       "}\n",
       "\n",
       "mpl.figure.prototype.request_resize = function(x_pixels, y_pixels) {\n",
       "    // Request matplotlib to resize the figure. Matplotlib will then trigger a resize in the client,\n",
       "    // which will in turn request a refresh of the image.\n",
       "    this.send_message('resize', {'width': x_pixels, 'height': y_pixels});\n",
       "}\n",
       "\n",
       "mpl.figure.prototype.send_message = function(type, properties) {\n",
       "    properties['type'] = type;\n",
       "    properties['figure_id'] = this.id;\n",
       "    this.ws.send(JSON.stringify(properties));\n",
       "}\n",
       "\n",
       "mpl.figure.prototype.send_draw_message = function() {\n",
       "    if (!this.waiting) {\n",
       "        this.waiting = true;\n",
       "        this.ws.send(JSON.stringify({type: \"draw\", figure_id: this.id}));\n",
       "    }\n",
       "}\n",
       "\n",
       "\n",
       "mpl.figure.prototype.handle_save = function(fig, msg) {\n",
       "    var format_dropdown = fig.format_dropdown;\n",
       "    var format = format_dropdown.options[format_dropdown.selectedIndex].value;\n",
       "    fig.ondownload(fig, format);\n",
       "}\n",
       "\n",
       "\n",
       "mpl.figure.prototype.handle_resize = function(fig, msg) {\n",
       "    var size = msg['size'];\n",
       "    if (size[0] != fig.canvas.width || size[1] != fig.canvas.height) {\n",
       "        fig._resize_canvas(size[0], size[1]);\n",
       "        fig.send_message(\"refresh\", {});\n",
       "    };\n",
       "}\n",
       "\n",
       "mpl.figure.prototype.handle_rubberband = function(fig, msg) {\n",
       "    var x0 = msg['x0'] / mpl.ratio;\n",
       "    var y0 = (fig.canvas.height - msg['y0']) / mpl.ratio;\n",
       "    var x1 = msg['x1'] / mpl.ratio;\n",
       "    var y1 = (fig.canvas.height - msg['y1']) / mpl.ratio;\n",
       "    x0 = Math.floor(x0) + 0.5;\n",
       "    y0 = Math.floor(y0) + 0.5;\n",
       "    x1 = Math.floor(x1) + 0.5;\n",
       "    y1 = Math.floor(y1) + 0.5;\n",
       "    var min_x = Math.min(x0, x1);\n",
       "    var min_y = Math.min(y0, y1);\n",
       "    var width = Math.abs(x1 - x0);\n",
       "    var height = Math.abs(y1 - y0);\n",
       "\n",
       "    fig.rubberband_context.clearRect(\n",
       "        0, 0, fig.canvas.width, fig.canvas.height);\n",
       "\n",
       "    fig.rubberband_context.strokeRect(min_x, min_y, width, height);\n",
       "}\n",
       "\n",
       "mpl.figure.prototype.handle_figure_label = function(fig, msg) {\n",
       "    // Updates the figure title.\n",
       "    fig.header.textContent = msg['label'];\n",
       "}\n",
       "\n",
       "mpl.figure.prototype.handle_cursor = function(fig, msg) {\n",
       "    var cursor = msg['cursor'];\n",
       "    switch(cursor)\n",
       "    {\n",
       "    case 0:\n",
       "        cursor = 'pointer';\n",
       "        break;\n",
       "    case 1:\n",
       "        cursor = 'default';\n",
       "        break;\n",
       "    case 2:\n",
       "        cursor = 'crosshair';\n",
       "        break;\n",
       "    case 3:\n",
       "        cursor = 'move';\n",
       "        break;\n",
       "    }\n",
       "    fig.rubberband_canvas.style.cursor = cursor;\n",
       "}\n",
       "\n",
       "mpl.figure.prototype.handle_message = function(fig, msg) {\n",
       "    fig.message.textContent = msg['message'];\n",
       "}\n",
       "\n",
       "mpl.figure.prototype.handle_draw = function(fig, msg) {\n",
       "    // Request the server to send over a new figure.\n",
       "    fig.send_draw_message();\n",
       "}\n",
       "\n",
       "mpl.figure.prototype.handle_image_mode = function(fig, msg) {\n",
       "    fig.image_mode = msg['mode'];\n",
       "}\n",
       "\n",
       "mpl.figure.prototype.updated_canvas_event = function() {\n",
       "    // Called whenever the canvas gets updated.\n",
       "    this.send_message(\"ack\", {});\n",
       "}\n",
       "\n",
       "// A function to construct a web socket function for onmessage handling.\n",
       "// Called in the figure constructor.\n",
       "mpl.figure.prototype._make_on_message_function = function(fig) {\n",
       "    return function socket_on_message(evt) {\n",
       "        if (evt.data instanceof Blob) {\n",
       "            /* FIXME: We get \"Resource interpreted as Image but\n",
       "             * transferred with MIME type text/plain:\" errors on\n",
       "             * Chrome.  But how to set the MIME type?  It doesn't seem\n",
       "             * to be part of the websocket stream */\n",
       "            evt.data.type = \"image/png\";\n",
       "\n",
       "            /* Free the memory for the previous frames */\n",
       "            if (fig.imageObj.src) {\n",
       "                (window.URL || window.webkitURL).revokeObjectURL(\n",
       "                    fig.imageObj.src);\n",
       "            }\n",
       "\n",
       "            fig.imageObj.src = (window.URL || window.webkitURL).createObjectURL(\n",
       "                evt.data);\n",
       "            fig.updated_canvas_event();\n",
       "            fig.waiting = false;\n",
       "            return;\n",
       "        }\n",
       "        else if (typeof evt.data === 'string' && evt.data.slice(0, 21) == \"data:image/png;base64\") {\n",
       "            fig.imageObj.src = evt.data;\n",
       "            fig.updated_canvas_event();\n",
       "            fig.waiting = false;\n",
       "            return;\n",
       "        }\n",
       "\n",
       "        var msg = JSON.parse(evt.data);\n",
       "        var msg_type = msg['type'];\n",
       "\n",
       "        // Call the  \"handle_{type}\" callback, which takes\n",
       "        // the figure and JSON message as its only arguments.\n",
       "        try {\n",
       "            var callback = fig[\"handle_\" + msg_type];\n",
       "        } catch (e) {\n",
       "            console.log(\"No handler for the '\" + msg_type + \"' message type: \", msg);\n",
       "            return;\n",
       "        }\n",
       "\n",
       "        if (callback) {\n",
       "            try {\n",
       "                // console.log(\"Handling '\" + msg_type + \"' message: \", msg);\n",
       "                callback(fig, msg);\n",
       "            } catch (e) {\n",
       "                console.log(\"Exception inside the 'handler_\" + msg_type + \"' callback:\", e, e.stack, msg);\n",
       "            }\n",
       "        }\n",
       "    };\n",
       "}\n",
       "\n",
       "// from http://stackoverflow.com/questions/1114465/getting-mouse-location-in-canvas\n",
       "mpl.findpos = function(e) {\n",
       "    //this section is from http://www.quirksmode.org/js/events_properties.html\n",
       "    var targ;\n",
       "    if (!e)\n",
       "        e = window.event;\n",
       "    if (e.target)\n",
       "        targ = e.target;\n",
       "    else if (e.srcElement)\n",
       "        targ = e.srcElement;\n",
       "    if (targ.nodeType == 3) // defeat Safari bug\n",
       "        targ = targ.parentNode;\n",
       "\n",
       "    // jQuery normalizes the pageX and pageY\n",
       "    // pageX,Y are the mouse positions relative to the document\n",
       "    // offset() returns the position of the element relative to the document\n",
       "    var x = e.pageX - $(targ).offset().left;\n",
       "    var y = e.pageY - $(targ).offset().top;\n",
       "\n",
       "    return {\"x\": x, \"y\": y};\n",
       "};\n",
       "\n",
       "/*\n",
       " * return a copy of an object with only non-object keys\n",
       " * we need this to avoid circular references\n",
       " * http://stackoverflow.com/a/24161582/3208463\n",
       " */\n",
       "function simpleKeys (original) {\n",
       "  return Object.keys(original).reduce(function (obj, key) {\n",
       "    if (typeof original[key] !== 'object')\n",
       "        obj[key] = original[key]\n",
       "    return obj;\n",
       "  }, {});\n",
       "}\n",
       "\n",
       "mpl.figure.prototype.mouse_event = function(event, name) {\n",
       "    var canvas_pos = mpl.findpos(event)\n",
       "\n",
       "    if (name === 'button_press')\n",
       "    {\n",
       "        this.canvas.focus();\n",
       "        this.canvas_div.focus();\n",
       "    }\n",
       "\n",
       "    var x = canvas_pos.x * mpl.ratio;\n",
       "    var y = canvas_pos.y * mpl.ratio;\n",
       "\n",
       "    this.send_message(name, {x: x, y: y, button: event.button,\n",
       "                             step: event.step,\n",
       "                             guiEvent: simpleKeys(event)});\n",
       "\n",
       "    /* This prevents the web browser from automatically changing to\n",
       "     * the text insertion cursor when the button is pressed.  We want\n",
       "     * to control all of the cursor setting manually through the\n",
       "     * 'cursor' event from matplotlib */\n",
       "    event.preventDefault();\n",
       "    return false;\n",
       "}\n",
       "\n",
       "mpl.figure.prototype._key_event_extra = function(event, name) {\n",
       "    // Handle any extra behaviour associated with a key event\n",
       "}\n",
       "\n",
       "mpl.figure.prototype.key_event = function(event, name) {\n",
       "\n",
       "    // Prevent repeat events\n",
       "    if (name == 'key_press')\n",
       "    {\n",
       "        if (event.which === this._key)\n",
       "            return;\n",
       "        else\n",
       "            this._key = event.which;\n",
       "    }\n",
       "    if (name == 'key_release')\n",
       "        this._key = null;\n",
       "\n",
       "    var value = '';\n",
       "    if (event.ctrlKey && event.which != 17)\n",
       "        value += \"ctrl+\";\n",
       "    if (event.altKey && event.which != 18)\n",
       "        value += \"alt+\";\n",
       "    if (event.shiftKey && event.which != 16)\n",
       "        value += \"shift+\";\n",
       "\n",
       "    value += 'k';\n",
       "    value += event.which.toString();\n",
       "\n",
       "    this._key_event_extra(event, name);\n",
       "\n",
       "    this.send_message(name, {key: value,\n",
       "                             guiEvent: simpleKeys(event)});\n",
       "    return false;\n",
       "}\n",
       "\n",
       "mpl.figure.prototype.toolbar_button_onclick = function(name) {\n",
       "    if (name == 'download') {\n",
       "        this.handle_save(this, null);\n",
       "    } else {\n",
       "        this.send_message(\"toolbar_button\", {name: name});\n",
       "    }\n",
       "};\n",
       "\n",
       "mpl.figure.prototype.toolbar_button_onmouseover = function(tooltip) {\n",
       "    this.message.textContent = tooltip;\n",
       "};\n",
       "mpl.toolbar_items = [[\"Home\", \"Reset original view\", \"fa fa-home icon-home\", \"home\"], [\"Back\", \"Back to previous view\", \"fa fa-arrow-left icon-arrow-left\", \"back\"], [\"Forward\", \"Forward to next view\", \"fa fa-arrow-right icon-arrow-right\", \"forward\"], [\"\", \"\", \"\", \"\"], [\"Pan\", \"Pan axes with left mouse, zoom with right\", \"fa fa-arrows icon-move\", \"pan\"], [\"Zoom\", \"Zoom to rectangle\", \"fa fa-square-o icon-check-empty\", \"zoom\"], [\"\", \"\", \"\", \"\"], [\"Download\", \"Download plot\", \"fa fa-floppy-o icon-save\", \"download\"]];\n",
       "\n",
       "mpl.extensions = [\"eps\", \"jpeg\", \"pdf\", \"png\", \"ps\", \"raw\", \"svg\", \"tif\"];\n",
       "\n",
       "mpl.default_extension = \"png\";var comm_websocket_adapter = function(comm) {\n",
       "    // Create a \"websocket\"-like object which calls the given IPython comm\n",
       "    // object with the appropriate methods. Currently this is a non binary\n",
       "    // socket, so there is still some room for performance tuning.\n",
       "    var ws = {};\n",
       "\n",
       "    ws.close = function() {\n",
       "        comm.close()\n",
       "    };\n",
       "    ws.send = function(m) {\n",
       "        //console.log('sending', m);\n",
       "        comm.send(m);\n",
       "    };\n",
       "    // Register the callback with on_msg.\n",
       "    comm.on_msg(function(msg) {\n",
       "        //console.log('receiving', msg['content']['data'], msg);\n",
       "        // Pass the mpl event to the overridden (by mpl) onmessage function.\n",
       "        ws.onmessage(msg['content']['data'])\n",
       "    });\n",
       "    return ws;\n",
       "}\n",
       "\n",
       "mpl.mpl_figure_comm = function(comm, msg) {\n",
       "    // This is the function which gets called when the mpl process\n",
       "    // starts-up an IPython Comm through the \"matplotlib\" channel.\n",
       "\n",
       "    var id = msg.content.data.id;\n",
       "    // Get hold of the div created by the display call when the Comm\n",
       "    // socket was opened in Python.\n",
       "    var element = $(\"#\" + id);\n",
       "    var ws_proxy = comm_websocket_adapter(comm)\n",
       "\n",
       "    function ondownload(figure, format) {\n",
       "        window.open(figure.imageObj.src);\n",
       "    }\n",
       "\n",
       "    var fig = new mpl.figure(id, ws_proxy,\n",
       "                           ondownload,\n",
       "                           element.get(0));\n",
       "\n",
       "    // Call onopen now - mpl needs it, as it is assuming we've passed it a real\n",
       "    // web socket which is closed, not our websocket->open comm proxy.\n",
       "    ws_proxy.onopen();\n",
       "\n",
       "    fig.parent_element = element.get(0);\n",
       "    fig.cell_info = mpl.find_output_cell(\"<div id='\" + id + \"'></div>\");\n",
       "    if (!fig.cell_info) {\n",
       "        console.error(\"Failed to find cell for figure\", id, fig);\n",
       "        return;\n",
       "    }\n",
       "\n",
       "    var output_index = fig.cell_info[2]\n",
       "    var cell = fig.cell_info[0];\n",
       "\n",
       "};\n",
       "\n",
       "mpl.figure.prototype.handle_close = function(fig, msg) {\n",
       "    var width = fig.canvas.width/mpl.ratio\n",
       "    fig.root.unbind('remove')\n",
       "\n",
       "    // Update the output cell to use the data from the current canvas.\n",
       "    fig.push_to_output();\n",
       "    var dataURL = fig.canvas.toDataURL();\n",
       "    // Re-enable the keyboard manager in IPython - without this line, in FF,\n",
       "    // the notebook keyboard shortcuts fail.\n",
       "    IPython.keyboard_manager.enable()\n",
       "    $(fig.parent_element).html('<img src=\"' + dataURL + '\" width=\"' + width + '\">');\n",
       "    fig.close_ws(fig, msg);\n",
       "}\n",
       "\n",
       "mpl.figure.prototype.close_ws = function(fig, msg){\n",
       "    fig.send_message('closing', msg);\n",
       "    // fig.ws.close()\n",
       "}\n",
       "\n",
       "mpl.figure.prototype.push_to_output = function(remove_interactive) {\n",
       "    // Turn the data on the canvas into data in the output cell.\n",
       "    var width = this.canvas.width/mpl.ratio\n",
       "    var dataURL = this.canvas.toDataURL();\n",
       "    this.cell_info[1]['text/html'] = '<img src=\"' + dataURL + '\" width=\"' + width + '\">';\n",
       "}\n",
       "\n",
       "mpl.figure.prototype.updated_canvas_event = function() {\n",
       "    // Tell IPython that the notebook contents must change.\n",
       "    IPython.notebook.set_dirty(true);\n",
       "    this.send_message(\"ack\", {});\n",
       "    var fig = this;\n",
       "    // Wait a second, then push the new image to the DOM so\n",
       "    // that it is saved nicely (might be nice to debounce this).\n",
       "    setTimeout(function () { fig.push_to_output() }, 1000);\n",
       "}\n",
       "\n",
       "mpl.figure.prototype._init_toolbar = function() {\n",
       "    var fig = this;\n",
       "\n",
       "    var nav_element = $('<div/>')\n",
       "    nav_element.attr('style', 'width: 100%');\n",
       "    this.root.append(nav_element);\n",
       "\n",
       "    // Define a callback function for later on.\n",
       "    function toolbar_event(event) {\n",
       "        return fig.toolbar_button_onclick(event['data']);\n",
       "    }\n",
       "    function toolbar_mouse_event(event) {\n",
       "        return fig.toolbar_button_onmouseover(event['data']);\n",
       "    }\n",
       "\n",
       "    for(var toolbar_ind in mpl.toolbar_items){\n",
       "        var name = mpl.toolbar_items[toolbar_ind][0];\n",
       "        var tooltip = mpl.toolbar_items[toolbar_ind][1];\n",
       "        var image = mpl.toolbar_items[toolbar_ind][2];\n",
       "        var method_name = mpl.toolbar_items[toolbar_ind][3];\n",
       "\n",
       "        if (!name) { continue; };\n",
       "\n",
       "        var button = $('<button class=\"btn btn-default\" href=\"#\" title=\"' + name + '\"><i class=\"fa ' + image + ' fa-lg\"></i></button>');\n",
       "        button.click(method_name, toolbar_event);\n",
       "        button.mouseover(tooltip, toolbar_mouse_event);\n",
       "        nav_element.append(button);\n",
       "    }\n",
       "\n",
       "    // Add the status bar.\n",
       "    var status_bar = $('<span class=\"mpl-message\" style=\"text-align:right; float: right;\"/>');\n",
       "    nav_element.append(status_bar);\n",
       "    this.message = status_bar[0];\n",
       "\n",
       "    // Add the close button to the window.\n",
       "    var buttongrp = $('<div class=\"btn-group inline pull-right\"></div>');\n",
       "    var button = $('<button class=\"btn btn-mini btn-primary\" href=\"#\" title=\"Stop Interaction\"><i class=\"fa fa-power-off icon-remove icon-large\"></i></button>');\n",
       "    button.click(function (evt) { fig.handle_close(fig, {}); } );\n",
       "    button.mouseover('Stop Interaction', toolbar_mouse_event);\n",
       "    buttongrp.append(button);\n",
       "    var titlebar = this.root.find($('.ui-dialog-titlebar'));\n",
       "    titlebar.prepend(buttongrp);\n",
       "}\n",
       "\n",
       "mpl.figure.prototype._root_extra_style = function(el){\n",
       "    var fig = this\n",
       "    el.on(\"remove\", function(){\n",
       "\tfig.close_ws(fig, {});\n",
       "    });\n",
       "}\n",
       "\n",
       "mpl.figure.prototype._canvas_extra_style = function(el){\n",
       "    // this is important to make the div 'focusable\n",
       "    el.attr('tabindex', 0)\n",
       "    // reach out to IPython and tell the keyboard manager to turn it's self\n",
       "    // off when our div gets focus\n",
       "\n",
       "    // location in version 3\n",
       "    if (IPython.notebook.keyboard_manager) {\n",
       "        IPython.notebook.keyboard_manager.register_events(el);\n",
       "    }\n",
       "    else {\n",
       "        // location in version 2\n",
       "        IPython.keyboard_manager.register_events(el);\n",
       "    }\n",
       "\n",
       "}\n",
       "\n",
       "mpl.figure.prototype._key_event_extra = function(event, name) {\n",
       "    var manager = IPython.notebook.keyboard_manager;\n",
       "    if (!manager)\n",
       "        manager = IPython.keyboard_manager;\n",
       "\n",
       "    // Check for shift+enter\n",
       "    if (event.shiftKey && event.which == 13) {\n",
       "        this.canvas_div.blur();\n",
       "        event.shiftKey = false;\n",
       "        // Send a \"J\" for go to next cell\n",
       "        event.which = 74;\n",
       "        event.keyCode = 74;\n",
       "        manager.command_mode();\n",
       "        manager.handle_keydown(event);\n",
       "    }\n",
       "}\n",
       "\n",
       "mpl.figure.prototype.handle_save = function(fig, msg) {\n",
       "    fig.ondownload(fig, null);\n",
       "}\n",
       "\n",
       "\n",
       "mpl.find_output_cell = function(html_output) {\n",
       "    // Return the cell and output element which can be found *uniquely* in the notebook.\n",
       "    // Note - this is a bit hacky, but it is done because the \"notebook_saving.Notebook\"\n",
       "    // IPython event is triggered only after the cells have been serialised, which for\n",
       "    // our purposes (turning an active figure into a static one), is too late.\n",
       "    var cells = IPython.notebook.get_cells();\n",
       "    var ncells = cells.length;\n",
       "    for (var i=0; i<ncells; i++) {\n",
       "        var cell = cells[i];\n",
       "        if (cell.cell_type === 'code'){\n",
       "            for (var j=0; j<cell.output_area.outputs.length; j++) {\n",
       "                var data = cell.output_area.outputs[j];\n",
       "                if (data.data) {\n",
       "                    // IPython >= 3 moved mimebundle to data attribute of output\n",
       "                    data = data.data;\n",
       "                }\n",
       "                if (data['text/html'] == html_output) {\n",
       "                    return [cell, data, j];\n",
       "                }\n",
       "            }\n",
       "        }\n",
       "    }\n",
       "}\n",
       "\n",
       "// Register the function which deals with the matplotlib target/channel.\n",
       "// The kernel may be null if the page has been refreshed.\n",
       "if (IPython.notebook.kernel != null) {\n",
       "    IPython.notebook.kernel.comm_manager.register_target('matplotlib', mpl.mpl_figure_comm);\n",
       "}\n"
      ],
      "text/plain": [
       "<IPython.core.display.Javascript object>"
      ]
     },
     "metadata": {},
     "output_type": "display_data"
    },
    {
     "data": {
      "text/html": [
       "<img src=\"data:image/png;base64,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\" width=\"900\">"
      ],
      "text/plain": [
       "<IPython.core.display.HTML object>"
      ]
     },
     "metadata": {},
     "output_type": "display_data"
    }
   ],
   "source": [
    "image_grid = PlotGrid(figsize=(9,2))"
   ]
  },
  {
   "cell_type": "code",
   "execution_count": 7,
   "metadata": {
    "ExecuteTime": {
     "end_time": "2019-03-18T01:19:46.934523Z",
     "start_time": "2019-03-18T01:19:39.839595Z"
    }
   },
   "outputs": [],
   "source": [
    "for index, image in enumerate(original_train_dataset):\n",
    "    index_image = original_train_dataset.INDEX_IMAGE\n",
    "    index_label = original_train_dataset.INDEX_LABEL\n",
    "    \n",
    "    # get datapoints\n",
    "    original = original_train_dataset[index]\n",
    "    stylized = stylized_train_dataset[index]\n",
    "    \n",
    "    # get images\n",
    "    img = original[index_image]\n",
    "    stylized_img = stylized[index_image]\n",
    "    \n",
    "    # plot images\n",
    "    image_grid.plot((1, 2, 1), toImage(img), title=original[index_label])\n",
    "    image_grid.plot((1, 2, 2), toImage(stylized_img), title=stylized[index_label])\n",
    "    if (index + 1) == 9:\n",
    "        break\n"
   ]
  },
  {
   "cell_type": "code",
   "execution_count": 8,
   "metadata": {
    "ExecuteTime": {
     "end_time": "2019-03-18T01:20:00.564083Z",
     "start_time": "2019-03-18T01:19:46.940419Z"
    },
    "scrolled": true
   },
   "outputs": [
    {
     "name": "stdout",
     "output_type": "stream",
     "text": [
      "vgg19_vanilla_similarity_0.04_tune_all\n",
      "vgg19_in_single_similarity_0.04_tune_all\n",
      "vgg19_bn_all_similarity_tune_fc\n",
      "vgg19_bn_all_similarity_tune_all\n"
     ]
    }
   ],
   "source": [
    "supported_models = {\n",
    "#     'vgg19_in_pretrained_in_tuned_min': create_vgg19_in_pretrained,\n",
    "#     'vgg19_in_batch_stats_pretrained_in_tuned_min': create_vgg19_in_pretrained, # create_vgg19_in_batch_stats_pretrained / create_vgg19_in_bs_eval / create_vgg19_in_pretrained\n",
    "#     'vgg19_pretrained_in_tuned_min': create_vgg19_pretrained,\n",
    "#     'vgg19_scratch_min': create_vgg19_scratch,\n",
    "#     'vgg19_bn_pretrained_in_tuned_min': create_vgg19_bn_tune_fc,\n",
    "#     'vgg19_in_single_tune_all': create_vgg19_in_single_tune_all,\n",
    "#     'vgg19_in_bs_single_tune_all': create_vgg19_in_bs_single_tune_all,\n",
    "#     'vgg19_in_all_tune_all': create_vgg19_in_all_tune_all,\n",
    "#     'vgg19_in_bs_all_tune_all': create_vgg19_in_bs_all_tune_all\n",
    "#     'vgg19_cosine_tune_all_no_similarity': create_vgg19_cosine_tune_all\n",
    "#     'vgg19_custom_cosine_similarity_weight_0.04_tune_all_grad_clip_50_pos_loss': create_vgg19_cosine_tune_all\n",
    "\n",
    "    'vgg19_vanilla_similarity_0.04_tune_all': create_vgg19_vanilla_similarity_tune_all,\n",
    "    'vgg19_in_single_similarity_0.04_tune_all': create_vgg19_in_single_similarity_tune_all,\n",
    "    'vgg19_bn_all_similarity_tune_fc': create_vgg19_bn_all_similarity_tune_fc,\n",
    "    'vgg19_bn_all_similarity_tune_all': create_vgg19_bn_all_similarity_tune_all,\n",
    "}\n",
    "\n",
    "sanity(supported_models, original_train_loader, device)\n"
   ]
  },
  {
   "cell_type": "code",
   "execution_count": null,
   "metadata": {
    "ExecuteTime": {
     "end_time": "2019-03-18T00:46:32.246995Z",
     "start_time": "2019-03-18T00:46:29.398Z"
    },
    "scrolled": true
   },
   "outputs": [],
   "source": [
    "epochs = 50\n",
    "similarity_weight = 0.04\n",
    "\n",
    "# setup log directory\n",
    "log_directory = pathJoin('run_logs')\n",
    "os.makedirs(log_directory, exist_ok=True)\n",
    "\n",
    "for model_type in supported_models:\n",
    "\n",
    "    # original\n",
    "    run_name = '{}'.format(model_type)\n",
    "    logger = create_logger(log_directory, run_name)\n",
    "    logger.info('Run Name {}'.format(run_name))\n",
    "    model = supported_models[model_type]()\n",
    "    run(run_name, model, epochs, monitor, logger, original_train_loader, original_val_loader, device, similarity_weight=similarity_weight, load_data=load_data)\n",
    "\n",
    "#     # stylized\n",
    "#     run_name = 'stylized_{}'.format(model_type)\n",
    "#     logger = create_logger(log_directory, run_name)\n",
    "#     logger.info('Run Name {}'.format(run_name))\n",
    "#     model = supported_models[model_type]()\n",
    "#     run(run_name, model, training, epochs, monitor, logger, stylized_train_loader, stylized_val_loader)\n",
    "\n",
    "    del model\n",
    "    torch.cuda.empty_cache()\n"
   ]
  },
  {
   "cell_type": "markdown",
   "metadata": {},
   "source": [
    "## Check Performance"
   ]
  },
  {
   "cell_type": "code",
   "execution_count": 9,
   "metadata": {
    "ExecuteTime": {
     "end_time": "2019-03-18T01:40:13.612175Z",
     "start_time": "2019-03-18T01:20:00.569611Z"
    }
   },
   "outputs": [
    {
     "name": "stdout",
     "output_type": "stream",
     "text": [
      "vgg19_vanilla_similarity_0.04_tune_all\n",
      "/var/node433/local/gulfaraz/models/vgg19_vanilla_similarity_0.04_tune_all.ckpt\n"
     ]
    },
    {
     "name": "stderr",
     "output_type": "stream",
     "text": [
      " 27%|██▋       | 2748/10000 [00:00<00:00, 27475.64it/s]"
     ]
    },
    {
     "name": "stdout",
     "output_type": "stream",
     "text": [
      "Epoch: 40\n"
     ]
    },
    {
     "name": "stderr",
     "output_type": "stream",
     "text": [
      "100%|██████████| 10000/10000 [00:00<00:00, 27312.36it/s]\n",
      "  0%|          | 0/625 [00:00<?, ?it/s]"
     ]
    },
    {
     "name": "stdout",
     "output_type": "stream",
     "text": [
      "val dataset stylized-miniimagenet-1.0 has 10000 datapoints in 625 batches\n"
     ]
    },
    {
     "name": "stderr",
     "output_type": "stream",
     "text": [
      "100%|██████████| 625/625 [01:09<00:00,  8.58it/s]\n",
      " 28%|██▊       | 2761/10000 [00:00<00:00, 27606.87it/s]"
     ]
    },
    {
     "name": "stdout",
     "output_type": "stream",
     "text": [
      "stylized-miniimagenet-1.0: Top1: 0.0602 Top5: 0.1599\n"
     ]
    },
    {
     "name": "stderr",
     "output_type": "stream",
     "text": [
      "100%|██████████| 10000/10000 [00:00<00:00, 27238.91it/s]\n",
      "  0%|          | 0/625 [00:00<?, ?it/s]"
     ]
    },
    {
     "name": "stdout",
     "output_type": "stream",
     "text": [
      "val dataset stylized-miniimagenet-0.9 has 10000 datapoints in 625 batches\n"
     ]
    },
    {
     "name": "stderr",
     "output_type": "stream",
     "text": [
      "100%|██████████| 625/625 [01:13<00:00,  8.64it/s]\n",
      " 28%|██▊       | 2750/10000 [00:00<00:00, 27497.34it/s]"
     ]
    },
    {
     "name": "stdout",
     "output_type": "stream",
     "text": [
      "stylized-miniimagenet-0.9: Top1: 0.0974 Top5: 0.2236\n"
     ]
    },
    {
     "name": "stderr",
     "output_type": "stream",
     "text": [
      "100%|██████████| 10000/10000 [00:00<00:00, 27494.22it/s]\n",
      "  0%|          | 0/625 [00:00<?, ?it/s]"
     ]
    },
    {
     "name": "stdout",
     "output_type": "stream",
     "text": [
      "val dataset stylized-miniimagenet-0.8 has 10000 datapoints in 625 batches\n"
     ]
    },
    {
     "name": "stderr",
     "output_type": "stream",
     "text": [
      "100%|██████████| 625/625 [01:13<00:00,  8.49it/s]\n",
      "  0%|          | 0/10000 [00:00<?, ?it/s]"
     ]
    },
    {
     "name": "stdout",
     "output_type": "stream",
     "text": [
      "stylized-miniimagenet-0.8: Top1: 0.1496 Top5: 0.3184\n"
     ]
    },
    {
     "name": "stderr",
     "output_type": "stream",
     "text": [
      "100%|██████████| 10000/10000 [00:00<00:00, 27220.57it/s]\n",
      "  0%|          | 0/625 [00:00<?, ?it/s]"
     ]
    },
    {
     "name": "stdout",
     "output_type": "stream",
     "text": [
      "val dataset stylized-miniimagenet-0.7 has 10000 datapoints in 625 batches\n"
     ]
    },
    {
     "name": "stderr",
     "output_type": "stream",
     "text": [
      "100%|██████████| 625/625 [01:13<00:00,  8.58it/s]\n",
      "  0%|          | 0/10000 [00:00<?, ?it/s]"
     ]
    },
    {
     "name": "stdout",
     "output_type": "stream",
     "text": [
      "stylized-miniimagenet-0.7: Top1: 0.2209 Top5: 0.4288\n"
     ]
    },
    {
     "name": "stderr",
     "output_type": "stream",
     "text": [
      "100%|██████████| 10000/10000 [00:00<00:00, 27428.45it/s]\n",
      "  0%|          | 0/625 [00:00<?, ?it/s]"
     ]
    },
    {
     "name": "stdout",
     "output_type": "stream",
     "text": [
      "val dataset stylized-miniimagenet-0.6 has 10000 datapoints in 625 batches\n"
     ]
    },
    {
     "name": "stderr",
     "output_type": "stream",
     "text": [
      "100%|██████████| 625/625 [01:13<00:00,  8.64it/s]\n",
      "  0%|          | 0/10000 [00:00<?, ?it/s]"
     ]
    },
    {
     "name": "stdout",
     "output_type": "stream",
     "text": [
      "stylized-miniimagenet-0.6: Top1: 0.3065 Top5: 0.5486\n"
     ]
    },
    {
     "name": "stderr",
     "output_type": "stream",
     "text": [
      "100%|██████████| 10000/10000 [00:00<00:00, 27714.22it/s]\n",
      "  0%|          | 0/625 [00:00<?, ?it/s]"
     ]
    },
    {
     "name": "stdout",
     "output_type": "stream",
     "text": [
      "val dataset stylized-miniimagenet-0.5 has 10000 datapoints in 625 batches\n"
     ]
    },
    {
     "name": "stderr",
     "output_type": "stream",
     "text": [
      "100%|██████████| 625/625 [01:13<00:00,  8.60it/s]\n",
      "  0%|          | 0/10000 [00:00<?, ?it/s]"
     ]
    },
    {
     "name": "stdout",
     "output_type": "stream",
     "text": [
      "stylized-miniimagenet-0.5: Top1: 0.4001 Top5: 0.6465\n"
     ]
    },
    {
     "name": "stderr",
     "output_type": "stream",
     "text": [
      "100%|██████████| 10000/10000 [00:00<00:00, 27994.52it/s]\n",
      "  0%|          | 0/625 [00:00<?, ?it/s]"
     ]
    },
    {
     "name": "stdout",
     "output_type": "stream",
     "text": [
      "val dataset stylized-miniimagenet-0.4 has 10000 datapoints in 625 batches\n"
     ]
    },
    {
     "name": "stderr",
     "output_type": "stream",
     "text": [
      "100%|██████████| 625/625 [01:13<00:00,  8.61it/s]\n",
      "  0%|          | 0/10000 [00:00<?, ?it/s]"
     ]
    },
    {
     "name": "stdout",
     "output_type": "stream",
     "text": [
      "stylized-miniimagenet-0.4: Top1: 0.4757 Top5: 0.7296\n"
     ]
    },
    {
     "name": "stderr",
     "output_type": "stream",
     "text": [
      "100%|██████████| 10000/10000 [00:00<00:00, 27798.90it/s]\n",
      "  0%|          | 0/625 [00:00<?, ?it/s]"
     ]
    },
    {
     "name": "stdout",
     "output_type": "stream",
     "text": [
      "val dataset stylized-miniimagenet-0.3 has 10000 datapoints in 625 batches\n"
     ]
    },
    {
     "name": "stderr",
     "output_type": "stream",
     "text": [
      "100%|██████████| 625/625 [01:14<00:00,  8.63it/s]\n",
      "  0%|          | 0/10000 [00:00<?, ?it/s]"
     ]
    },
    {
     "name": "stdout",
     "output_type": "stream",
     "text": [
      "stylized-miniimagenet-0.3: Top1: 0.5422 Top5: 0.7871\n"
     ]
    },
    {
     "name": "stderr",
     "output_type": "stream",
     "text": [
      "100%|██████████| 10000/10000 [00:00<00:00, 27687.15it/s]\n",
      "  0%|          | 0/625 [00:00<?, ?it/s]"
     ]
    },
    {
     "name": "stdout",
     "output_type": "stream",
     "text": [
      "val dataset stylized-miniimagenet-0.2 has 10000 datapoints in 625 batches\n"
     ]
    },
    {
     "name": "stderr",
     "output_type": "stream",
     "text": [
      "100%|██████████| 625/625 [01:13<00:00,  8.50it/s]\n"
     ]
    },
    {
     "name": "stdout",
     "output_type": "stream",
     "text": [
      "stylized-miniimagenet-0.2: Top1: 0.5847 Top5: 0.8177\n"
     ]
    },
    {
     "name": "stderr",
     "output_type": "stream",
     "text": [
      "100%|██████████| 10000/10000 [00:00<00:00, 27112.45it/s]\n",
      "  0%|          | 0/625 [00:00<?, ?it/s]"
     ]
    },
    {
     "name": "stdout",
     "output_type": "stream",
     "text": [
      "val dataset stylized-miniimagenet-0.1 has 10000 datapoints in 625 batches\n"
     ]
    },
    {
     "name": "stderr",
     "output_type": "stream",
     "text": [
      "100%|██████████| 625/625 [01:14<00:00,  8.52it/s]\n",
      " 28%|██▊       | 2779/10000 [00:00<00:00, 27785.46it/s]"
     ]
    },
    {
     "name": "stdout",
     "output_type": "stream",
     "text": [
      "stylized-miniimagenet-0.1: Top1: 0.6042 Top5: 0.8393\n"
     ]
    },
    {
     "name": "stderr",
     "output_type": "stream",
     "text": [
      "100%|██████████| 10000/10000 [00:00<00:00, 27445.30it/s]\n",
      "  0%|          | 0/625 [00:00<?, ?it/s]"
     ]
    },
    {
     "name": "stdout",
     "output_type": "stream",
     "text": [
      "val dataset stylized-miniimagenet-0.0 has 10000 datapoints in 625 batches\n"
     ]
    },
    {
     "name": "stderr",
     "output_type": "stream",
     "text": [
      "100%|██████████| 625/625 [01:14<00:00,  8.60it/s]\n",
      " 27%|██▋       | 2678/10000 [00:00<00:00, 26775.30it/s]"
     ]
    },
    {
     "name": "stdout",
     "output_type": "stream",
     "text": [
      "stylized-miniimagenet-0.0: Top1: 0.6137 Top5: 0.8432\n"
     ]
    },
    {
     "name": "stderr",
     "output_type": "stream",
     "text": [
      "100%|██████████| 10000/10000 [00:00<00:00, 27227.24it/s]\n",
      "  0%|          | 0/625 [00:00<?, ?it/s]"
     ]
    },
    {
     "name": "stdout",
     "output_type": "stream",
     "text": [
      "val dataset miniimagenet has 10000 datapoints in 625 batches\n"
     ]
    },
    {
     "name": "stderr",
     "output_type": "stream",
     "text": [
      "100%|██████████| 625/625 [01:14<00:00,  8.62it/s]\n"
     ]
    },
    {
     "name": "stdout",
     "output_type": "stream",
     "text": [
      "miniimagenet: Top1: 0.7997 Top5: 0.9416\n",
      "Train: Loss: 2.3280 Top1 Accuracy: 0.7921 Top5 Accuracy: 0.9278\n",
      "Validation: Loss: 2.3342 Top1 Accuracy: 0.7997 Top5 Accuracy: 0.9416\n",
      "vgg19_in_single_similarity_0.04_tune_all\n",
      "/var/node433/local/gulfaraz/models/vgg19_in_single_similarity_0.04_tune_all.ckpt\n"
     ]
    },
    {
     "name": "stderr",
     "output_type": "stream",
     "text": [
      " 28%|██▊       | 2777/10000 [00:00<00:00, 27763.61it/s]"
     ]
    },
    {
     "name": "stdout",
     "output_type": "stream",
     "text": [
      "Epoch: 50\n"
     ]
    },
    {
     "name": "stderr",
     "output_type": "stream",
     "text": [
      "100%|██████████| 10000/10000 [00:00<00:00, 27436.99it/s]\n",
      "  0%|          | 0/625 [00:00<?, ?it/s]"
     ]
    },
    {
     "name": "stdout",
     "output_type": "stream",
     "text": [
      "val dataset stylized-miniimagenet-1.0 has 10000 datapoints in 625 batches\n"
     ]
    },
    {
     "name": "stderr",
     "output_type": "stream",
     "text": [
      "100%|██████████| 625/625 [01:13<00:00,  8.53it/s]\n",
      " 55%|█████▌    | 5549/10000 [00:00<00:00, 27752.43it/s]"
     ]
    },
    {
     "name": "stdout",
     "output_type": "stream",
     "text": [
      "stylized-miniimagenet-1.0: Top1: 0.0403 Top5: 0.1216\n"
     ]
    },
    {
     "name": "stderr",
     "output_type": "stream",
     "text": [
      "100%|██████████| 10000/10000 [00:00<00:00, 27749.10it/s]\n",
      "  0%|          | 0/625 [00:00<?, ?it/s]"
     ]
    },
    {
     "name": "stdout",
     "output_type": "stream",
     "text": [
      "val dataset stylized-miniimagenet-0.9 has 10000 datapoints in 625 batches\n"
     ]
    },
    {
     "name": "stderr",
     "output_type": "stream",
     "text": [
      "100%|██████████| 625/625 [01:14<00:00,  8.52it/s]\n",
      " 55%|█████▌    | 5544/10000 [00:00<00:00, 27648.53it/s]"
     ]
    },
    {
     "name": "stdout",
     "output_type": "stream",
     "text": [
      "stylized-miniimagenet-0.9: Top1: 0.0601 Top5: 0.1679\n"
     ]
    },
    {
     "name": "stderr",
     "output_type": "stream",
     "text": [
      "100%|██████████| 10000/10000 [00:00<00:00, 27638.45it/s]\n",
      "  0%|          | 0/625 [00:00<?, ?it/s]"
     ]
    },
    {
     "name": "stdout",
     "output_type": "stream",
     "text": [
      "val dataset stylized-miniimagenet-0.8 has 10000 datapoints in 625 batches\n"
     ]
    },
    {
     "name": "stderr",
     "output_type": "stream",
     "text": [
      "100%|██████████| 625/625 [01:14<00:00,  8.57it/s]\n",
      " 56%|█████▌    | 5554/10000 [00:00<00:00, 27819.38it/s]"
     ]
    },
    {
     "name": "stdout",
     "output_type": "stream",
     "text": [
      "stylized-miniimagenet-0.8: Top1: 0.0872 Top5: 0.2337\n"
     ]
    },
    {
     "name": "stderr",
     "output_type": "stream",
     "text": [
      "100%|██████████| 10000/10000 [00:00<00:00, 27889.16it/s]\n",
      "  0%|          | 0/625 [00:00<?, ?it/s]"
     ]
    },
    {
     "name": "stdout",
     "output_type": "stream",
     "text": [
      "val dataset stylized-miniimagenet-0.7 has 10000 datapoints in 625 batches\n"
     ]
    },
    {
     "name": "stderr",
     "output_type": "stream",
     "text": [
      "100%|██████████| 625/625 [01:14<00:00,  8.48it/s]\n",
      " 55%|█████▍    | 5450/10000 [00:00<00:00, 27149.91it/s]"
     ]
    },
    {
     "name": "stdout",
     "output_type": "stream",
     "text": [
      "stylized-miniimagenet-0.7: Top1: 0.1307 Top5: 0.3138\n"
     ]
    },
    {
     "name": "stderr",
     "output_type": "stream",
     "text": [
      "100%|██████████| 10000/10000 [00:00<00:00, 27463.81it/s]\n",
      "  0%|          | 0/625 [00:00<?, ?it/s]"
     ]
    },
    {
     "name": "stdout",
     "output_type": "stream",
     "text": [
      "val dataset stylized-miniimagenet-0.6 has 10000 datapoints in 625 batches\n"
     ]
    },
    {
     "name": "stderr",
     "output_type": "stream",
     "text": [
      "  7%|▋         | 44/625 [00:05<01:08,  8.50it/s]\n"
     ]
    },
    {
     "ename": "KeyboardInterrupt",
     "evalue": "",
     "output_type": "error",
     "traceback": [
      "\u001b[0;31m---------------------------------------------------------------------------\u001b[0m",
      "\u001b[0;31mKeyboardInterrupt\u001b[0m                         Traceback (most recent call last)",
      "\u001b[0;32m<ipython-input-9-04f28f1a2dcf>\u001b[0m in \u001b[0;36m<module>\u001b[0;34m\u001b[0m\n\u001b[1;32m      1\u001b[0m \u001b[0mmodels_directory\u001b[0m \u001b[0;34m=\u001b[0m \u001b[0mpathJoin\u001b[0m\u001b[0;34m(\u001b[0m\u001b[0mROOT_PATH\u001b[0m\u001b[0;34m,\u001b[0m \u001b[0;34m'models'\u001b[0m\u001b[0;34m)\u001b[0m\u001b[0;34m\u001b[0m\u001b[0;34m\u001b[0m\u001b[0m\n\u001b[1;32m      2\u001b[0m \u001b[0;34m\u001b[0m\u001b[0m\n\u001b[0;32m----> 3\u001b[0;31m \u001b[0mperf\u001b[0m\u001b[0;34m(\u001b[0m\u001b[0msupported_models\u001b[0m\u001b[0;34m,\u001b[0m \u001b[0mmodels_directory\u001b[0m\u001b[0;34m,\u001b[0m \u001b[0mdataset_names\u001b[0m\u001b[0;34m,\u001b[0m \u001b[0mdevice\u001b[0m\u001b[0;34m,\u001b[0m \u001b[0mload_data\u001b[0m\u001b[0;34m=\u001b[0m\u001b[0mload_data\u001b[0m\u001b[0;34m)\u001b[0m\u001b[0;34m\u001b[0m\u001b[0;34m\u001b[0m\u001b[0m\n\u001b[0m",
      "\u001b[0;32m/var/scratch/grahman/unn/trainer.py\u001b[0m in \u001b[0;36mperf\u001b[0;34m(model_list, models_directory, dataset_names, device, load_data)\u001b[0m\n\u001b[1;32m    212\u001b[0m             \u001b[0mprint\u001b[0m\u001b[0;34m(\u001b[0m\u001b[0;34m'Epoch: {}'\u001b[0m\u001b[0;34m.\u001b[0m\u001b[0mformat\u001b[0m\u001b[0;34m(\u001b[0m\u001b[0mepoch\u001b[0m\u001b[0;34m)\u001b[0m\u001b[0;34m)\u001b[0m\u001b[0;34m\u001b[0m\u001b[0;34m\u001b[0m\u001b[0m\n\u001b[1;32m    213\u001b[0m \u001b[0;34m\u001b[0m\u001b[0m\n\u001b[0;32m--> 214\u001b[0;31m             \u001b[0mevaluate_model\u001b[0m\u001b[0;34m(\u001b[0m\u001b[0mmodel\u001b[0m\u001b[0;34m,\u001b[0m \u001b[0mload_data\u001b[0m\u001b[0;34m,\u001b[0m \u001b[0mdataset_names\u001b[0m\u001b[0;34m,\u001b[0m \u001b[0mprint\u001b[0m\u001b[0;34m,\u001b[0m \u001b[0;34m'similarity'\u001b[0m \u001b[0;32min\u001b[0m \u001b[0mmodel_type\u001b[0m\u001b[0;34m,\u001b[0m \u001b[0mdevice\u001b[0m\u001b[0;34m)\u001b[0m\u001b[0;34m\u001b[0m\u001b[0;34m\u001b[0m\u001b[0m\n\u001b[0m\u001b[1;32m    215\u001b[0m             \u001b[0mprint\u001b[0m\u001b[0;34m(\u001b[0m\u001b[0;34m'Train: Loss: {:.4f} Top1 Accuracy: {:.4f} Top5 Accuracy: {:.4f}'\u001b[0m\u001b[0;34m.\u001b[0m\u001b[0mformat\u001b[0m\u001b[0;34m(\u001b[0m\u001b[0mtrain_loss\u001b[0m\u001b[0;34m,\u001b[0m \u001b[0mtrain_top1_accuracy\u001b[0m\u001b[0;34m,\u001b[0m \u001b[0mtrain_top5_accuracy\u001b[0m\u001b[0;34m)\u001b[0m\u001b[0;34m)\u001b[0m\u001b[0;34m\u001b[0m\u001b[0;34m\u001b[0m\u001b[0m\n\u001b[1;32m    216\u001b[0m             \u001b[0mprint\u001b[0m\u001b[0;34m(\u001b[0m\u001b[0;34m'Validation: Loss: {:.4f} Top1 Accuracy: {:.4f} Top5 Accuracy: {:.4f}'\u001b[0m\u001b[0;34m.\u001b[0m\u001b[0mformat\u001b[0m\u001b[0;34m(\u001b[0m\u001b[0mvalidation_loss\u001b[0m\u001b[0;34m,\u001b[0m \u001b[0mvalidation_top1_accuracy\u001b[0m\u001b[0;34m,\u001b[0m \u001b[0mvalidation_top5_accuracy\u001b[0m\u001b[0;34m)\u001b[0m\u001b[0;34m)\u001b[0m\u001b[0;34m\u001b[0m\u001b[0;34m\u001b[0m\u001b[0m\n",
      "\u001b[0;32m/var/scratch/grahman/unn/score.py\u001b[0m in \u001b[0;36mevaluate_model\u001b[0;34m(model, load_data, dataset_names, print_function, similarity_model, device)\u001b[0m\n\u001b[1;32m     42\u001b[0m     \u001b[0;32mfor\u001b[0m \u001b[0mdataset_name\u001b[0m \u001b[0;32min\u001b[0m \u001b[0mdataset_names\u001b[0m\u001b[0;34m:\u001b[0m\u001b[0;34m\u001b[0m\u001b[0;34m\u001b[0m\u001b[0m\n\u001b[1;32m     43\u001b[0m         \u001b[0m_\u001b[0m\u001b[0;34m,\u001b[0m \u001b[0mloader\u001b[0m \u001b[0;34m=\u001b[0m \u001b[0mload_data\u001b[0m\u001b[0;34m(\u001b[0m\u001b[0mdataset_name\u001b[0m\u001b[0;34m,\u001b[0m \u001b[0msplit\u001b[0m\u001b[0;34m=\u001b[0m\u001b[0;34m'val'\u001b[0m\u001b[0;34m)\u001b[0m\u001b[0;34m\u001b[0m\u001b[0;34m\u001b[0m\u001b[0m\n\u001b[0;32m---> 44\u001b[0;31m         \u001b[0mtop1\u001b[0m\u001b[0;34m,\u001b[0m \u001b[0mtop5\u001b[0m \u001b[0;34m=\u001b[0m \u001b[0mscore_model\u001b[0m\u001b[0;34m(\u001b[0m\u001b[0mmodel\u001b[0m\u001b[0;34m,\u001b[0m \u001b[0mloader\u001b[0m\u001b[0;34m,\u001b[0m \u001b[0mdevice\u001b[0m\u001b[0;34m,\u001b[0m \u001b[0msimilarity_model\u001b[0m\u001b[0;34m)\u001b[0m\u001b[0;34m\u001b[0m\u001b[0;34m\u001b[0m\u001b[0m\n\u001b[0m\u001b[1;32m     45\u001b[0m         \u001b[0mprint_function\u001b[0m\u001b[0;34m(\u001b[0m\u001b[0;34m'{}: Top1: {:.4f} Top5: {:.4f}'\u001b[0m\u001b[0;34m.\u001b[0m\u001b[0mformat\u001b[0m\u001b[0;34m(\u001b[0m\u001b[0mdataset_name\u001b[0m\u001b[0;34m,\u001b[0m \u001b[0mtop1\u001b[0m\u001b[0;34m,\u001b[0m \u001b[0mtop5\u001b[0m\u001b[0;34m)\u001b[0m\u001b[0;34m)\u001b[0m\u001b[0;34m\u001b[0m\u001b[0;34m\u001b[0m\u001b[0m\n\u001b[1;32m     46\u001b[0m \u001b[0;34m\u001b[0m\u001b[0m\n",
      "\u001b[0;32m/var/scratch/grahman/unn/score.py\u001b[0m in \u001b[0;36mscore_model\u001b[0;34m(model, dataloader, device, similarity_model)\u001b[0m\n\u001b[1;32m     28\u001b[0m             \u001b[0minput\u001b[0m \u001b[0;34m=\u001b[0m \u001b[0mbatch\u001b[0m\u001b[0;34m[\u001b[0m\u001b[0mdataloader\u001b[0m\u001b[0;34m.\u001b[0m\u001b[0mdataset\u001b[0m\u001b[0;34m.\u001b[0m\u001b[0mINDEX_IMAGE\u001b[0m\u001b[0;34m]\u001b[0m\u001b[0;34m.\u001b[0m\u001b[0mto\u001b[0m\u001b[0;34m(\u001b[0m\u001b[0mdevice\u001b[0m\u001b[0;34m)\u001b[0m\u001b[0;34m\u001b[0m\u001b[0;34m\u001b[0m\u001b[0m\n\u001b[1;32m     29\u001b[0m             \u001b[0;32mif\u001b[0m \u001b[0msimilarity_model\u001b[0m\u001b[0;34m:\u001b[0m\u001b[0;34m\u001b[0m\u001b[0;34m\u001b[0m\u001b[0m\n\u001b[0;32m---> 30\u001b[0;31m                 \u001b[0moutput\u001b[0m\u001b[0;34m,\u001b[0m \u001b[0m_\u001b[0m \u001b[0;34m=\u001b[0m \u001b[0mmodel\u001b[0m\u001b[0;34m(\u001b[0m\u001b[0minput\u001b[0m\u001b[0;34m)\u001b[0m\u001b[0;34m\u001b[0m\u001b[0;34m\u001b[0m\u001b[0m\n\u001b[0m\u001b[1;32m     31\u001b[0m             \u001b[0;32melse\u001b[0m\u001b[0;34m:\u001b[0m\u001b[0;34m\u001b[0m\u001b[0;34m\u001b[0m\u001b[0m\n\u001b[1;32m     32\u001b[0m                 \u001b[0moutput\u001b[0m \u001b[0;34m=\u001b[0m \u001b[0mmodel\u001b[0m\u001b[0;34m(\u001b[0m\u001b[0minput\u001b[0m\u001b[0;34m)\u001b[0m\u001b[0;34m\u001b[0m\u001b[0;34m\u001b[0m\u001b[0m\n",
      "\u001b[0;32m~/scratch/miniconda3/envs/torchenv/lib/python3.7/site-packages/torch/nn/modules/module.py\u001b[0m in \u001b[0;36m__call__\u001b[0;34m(self, *input, **kwargs)\u001b[0m\n\u001b[1;32m    487\u001b[0m             \u001b[0mresult\u001b[0m \u001b[0;34m=\u001b[0m \u001b[0mself\u001b[0m\u001b[0;34m.\u001b[0m\u001b[0m_slow_forward\u001b[0m\u001b[0;34m(\u001b[0m\u001b[0;34m*\u001b[0m\u001b[0minput\u001b[0m\u001b[0;34m,\u001b[0m \u001b[0;34m**\u001b[0m\u001b[0mkwargs\u001b[0m\u001b[0;34m)\u001b[0m\u001b[0;34m\u001b[0m\u001b[0;34m\u001b[0m\u001b[0m\n\u001b[1;32m    488\u001b[0m         \u001b[0;32melse\u001b[0m\u001b[0;34m:\u001b[0m\u001b[0;34m\u001b[0m\u001b[0;34m\u001b[0m\u001b[0m\n\u001b[0;32m--> 489\u001b[0;31m             \u001b[0mresult\u001b[0m \u001b[0;34m=\u001b[0m \u001b[0mself\u001b[0m\u001b[0;34m.\u001b[0m\u001b[0mforward\u001b[0m\u001b[0;34m(\u001b[0m\u001b[0;34m*\u001b[0m\u001b[0minput\u001b[0m\u001b[0;34m,\u001b[0m \u001b[0;34m**\u001b[0m\u001b[0mkwargs\u001b[0m\u001b[0;34m)\u001b[0m\u001b[0;34m\u001b[0m\u001b[0;34m\u001b[0m\u001b[0m\n\u001b[0m\u001b[1;32m    490\u001b[0m         \u001b[0;32mfor\u001b[0m \u001b[0mhook\u001b[0m \u001b[0;32min\u001b[0m \u001b[0mself\u001b[0m\u001b[0;34m.\u001b[0m\u001b[0m_forward_hooks\u001b[0m\u001b[0;34m.\u001b[0m\u001b[0mvalues\u001b[0m\u001b[0;34m(\u001b[0m\u001b[0;34m)\u001b[0m\u001b[0;34m:\u001b[0m\u001b[0;34m\u001b[0m\u001b[0;34m\u001b[0m\u001b[0m\n\u001b[1;32m    491\u001b[0m             \u001b[0mhook_result\u001b[0m \u001b[0;34m=\u001b[0m \u001b[0mhook\u001b[0m\u001b[0;34m(\u001b[0m\u001b[0mself\u001b[0m\u001b[0;34m,\u001b[0m \u001b[0minput\u001b[0m\u001b[0;34m,\u001b[0m \u001b[0mresult\u001b[0m\u001b[0;34m)\u001b[0m\u001b[0;34m\u001b[0m\u001b[0;34m\u001b[0m\u001b[0m\n",
      "\u001b[0;32m/var/scratch/grahman/unn/vgg19min.py\u001b[0m in \u001b[0;36mforward\u001b[0;34m(self, x)\u001b[0m\n\u001b[1;32m    127\u001b[0m             \u001b[0mx\u001b[0m \u001b[0;34m=\u001b[0m \u001b[0mlayer\u001b[0m\u001b[0;34m(\u001b[0m\u001b[0mx\u001b[0m\u001b[0;34m)\u001b[0m\u001b[0;34m\u001b[0m\u001b[0;34m\u001b[0m\u001b[0m\n\u001b[1;32m    128\u001b[0m             \u001b[0;32mif\u001b[0m \u001b[0;34m(\u001b[0m\u001b[0mcurrent_layer\u001b[0m \u001b[0;32min\u001b[0m \u001b[0mself\u001b[0m\u001b[0;34m.\u001b[0m\u001b[0mlayer_indices\u001b[0m\u001b[0;34m)\u001b[0m\u001b[0;34m:\u001b[0m\u001b[0;34m\u001b[0m\u001b[0;34m\u001b[0m\u001b[0m\n\u001b[0;32m--> 129\u001b[0;31m                 \u001b[0msimilarity_scores\u001b[0m\u001b[0;34m.\u001b[0m\u001b[0mappend\u001b[0m\u001b[0;34m(\u001b[0m\u001b[0mself\u001b[0m\u001b[0;34m.\u001b[0m\u001b[0mcalculate_similarity_score\u001b[0m\u001b[0;34m(\u001b[0m\u001b[0mx\u001b[0m\u001b[0;34m)\u001b[0m\u001b[0;34m)\u001b[0m\u001b[0;34m\u001b[0m\u001b[0;34m\u001b[0m\u001b[0m\n\u001b[0m\u001b[1;32m    130\u001b[0m             \u001b[0mcurrent_layer\u001b[0m \u001b[0;34m+=\u001b[0m \u001b[0;36m1\u001b[0m\u001b[0;34m\u001b[0m\u001b[0;34m\u001b[0m\u001b[0m\n\u001b[1;32m    131\u001b[0m \u001b[0;34m\u001b[0m\u001b[0m\n",
      "\u001b[0;32m/var/scratch/grahman/unn/vgg19min.py\u001b[0m in \u001b[0;36mcalculate_similarity_score\u001b[0;34m(self, x)\u001b[0m\n\u001b[1;32m     62\u001b[0m \u001b[0;31m#         torch.set_printoptions(profile=\"full\")\u001b[0m\u001b[0;34m\u001b[0m\u001b[0;34m\u001b[0m\u001b[0;34m\u001b[0m\u001b[0m\n\u001b[1;32m     63\u001b[0m         \u001b[0mflat_x\u001b[0m \u001b[0;34m=\u001b[0m \u001b[0mx\u001b[0m\u001b[0;34m.\u001b[0m\u001b[0mview\u001b[0m\u001b[0;34m(\u001b[0m\u001b[0mx\u001b[0m\u001b[0;34m.\u001b[0m\u001b[0msize\u001b[0m\u001b[0;34m(\u001b[0m\u001b[0;36m0\u001b[0m\u001b[0;34m)\u001b[0m\u001b[0;34m,\u001b[0m \u001b[0mx\u001b[0m\u001b[0;34m.\u001b[0m\u001b[0msize\u001b[0m\u001b[0;34m(\u001b[0m\u001b[0;36m1\u001b[0m\u001b[0;34m)\u001b[0m\u001b[0;34m,\u001b[0m \u001b[0;34m-\u001b[0m\u001b[0;36m1\u001b[0m\u001b[0;34m)\u001b[0m\u001b[0;34m\u001b[0m\u001b[0;34m\u001b[0m\u001b[0m\n\u001b[0;32m---> 64\u001b[0;31m         \u001b[0msimilarity_matrix\u001b[0m \u001b[0;34m=\u001b[0m \u001b[0mself\u001b[0m\u001b[0;34m.\u001b[0m\u001b[0mcalculate_cosine_similarity_matrix\u001b[0m\u001b[0;34m(\u001b[0m\u001b[0mflat_x\u001b[0m\u001b[0;34m)\u001b[0m\u001b[0;34m\u001b[0m\u001b[0;34m\u001b[0m\u001b[0m\n\u001b[0m\u001b[1;32m     65\u001b[0m         \u001b[0msimilarity_matrix\u001b[0m \u001b[0;34m=\u001b[0m \u001b[0msimilarity_matrix\u001b[0m \u001b[0;34m**\u001b[0m \u001b[0;36m2\u001b[0m\u001b[0;34m\u001b[0m\u001b[0;34m\u001b[0m\u001b[0m\n\u001b[1;32m     66\u001b[0m \u001b[0;31m#         print('similarity_matrix.shape')\u001b[0m\u001b[0;34m\u001b[0m\u001b[0;34m\u001b[0m\u001b[0;34m\u001b[0m\u001b[0m\n",
      "\u001b[0;32m/var/scratch/grahman/unn/vgg19min.py\u001b[0m in \u001b[0;36mcalculate_cosine_similarity_matrix\u001b[0;34m(self, x)\u001b[0m\n\u001b[1;32m     94\u001b[0m \u001b[0;31m#         print('norm_prod.shape')\u001b[0m\u001b[0;34m\u001b[0m\u001b[0;34m\u001b[0m\u001b[0;34m\u001b[0m\u001b[0m\n\u001b[1;32m     95\u001b[0m \u001b[0;31m#         print(norm_prod.shape)\u001b[0m\u001b[0;34m\u001b[0m\u001b[0;34m\u001b[0m\u001b[0;34m\u001b[0m\u001b[0m\n\u001b[0;32m---> 96\u001b[0;31m         \u001b[0mden\u001b[0m \u001b[0;34m=\u001b[0m \u001b[0mtorch\u001b[0m\u001b[0;34m.\u001b[0m\u001b[0mmax\u001b[0m\u001b[0;34m(\u001b[0m\u001b[0mnorm_prod\u001b[0m\u001b[0;34m,\u001b[0m \u001b[0mself\u001b[0m\u001b[0;34m.\u001b[0m\u001b[0meps\u001b[0m\u001b[0;34m.\u001b[0m\u001b[0mto\u001b[0m\u001b[0;34m(\u001b[0m\u001b[0mnorm_prod\u001b[0m\u001b[0;34m.\u001b[0m\u001b[0mdevice\u001b[0m\u001b[0;34m)\u001b[0m\u001b[0;34m)\u001b[0m\u001b[0;34m\u001b[0m\u001b[0;34m\u001b[0m\u001b[0m\n\u001b[0m\u001b[1;32m     97\u001b[0m \u001b[0;31m#         print('den.shape')\u001b[0m\u001b[0;34m\u001b[0m\u001b[0;34m\u001b[0m\u001b[0;34m\u001b[0m\u001b[0m\n\u001b[1;32m     98\u001b[0m \u001b[0;31m#         print(den.shape)\u001b[0m\u001b[0;34m\u001b[0m\u001b[0;34m\u001b[0m\u001b[0;34m\u001b[0m\u001b[0m\n",
      "\u001b[0;31mKeyboardInterrupt\u001b[0m: "
     ]
    }
   ],
   "source": [
    "models_directory = pathJoin(ROOT_PATH, 'models')\n",
    "\n",
    "perf(supported_models, models_directory, dataset_names, device, load_data=load_data)"
   ]
  }
 ],
 "metadata": {
  "kernelspec": {
   "display_name": "torchenv",
   "language": "python",
   "name": "torchenv"
  },
  "language_info": {
   "codemirror_mode": {
    "name": "ipython",
    "version": 3
   },
   "file_extension": ".py",
   "mimetype": "text/x-python",
   "name": "python",
   "nbconvert_exporter": "python",
   "pygments_lexer": "ipython3",
   "version": "3.7.1"
  }
 },
 "nbformat": 4,
 "nbformat_minor": 2
}
